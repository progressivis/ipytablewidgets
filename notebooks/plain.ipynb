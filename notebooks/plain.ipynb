{
 "cells": [
  {
   "cell_type": "code",
   "execution_count": 1,
   "metadata": {},
   "outputs": [],
   "source": [
    "import numpy as np\n",
    "import pandas as pd\n",
    "import time\n",
    "from ipytablewidgets import TableWidget, PandasAdapter\n",
    "\n",
    "seed = 42\n",
    "rows = 5\n",
    "choice=('A', 'B', 'C', 'D')\n",
    "np.random.seed(seed)\n",
    "np.random.randint(0, 100, size=rows, dtype='int')\n",
    "df = pd.DataFrame({\n",
    "    'A': np.random.normal(0, 3, rows),\n",
    "    'B': np.random.normal(5, 2, rows),\n",
    "    'C': np.random.normal(-5, 4, rows),\n",
    "    'D': np.random.normal(5, 3, rows),\n",
    "    'I': np.random.randint(0, 2**31, size=rows, dtype=int),\n",
    "    'S': np.random.choice(choice, rows)\n",
    "})\n",
    "adapter = PandasAdapter(df)\n",
    "wg = TableWidget(adapter)"
   ]
  },
  {
   "cell_type": "code",
   "execution_count": 2,
   "metadata": {},
   "outputs": [
    {
     "data": {
      "application/vnd.jupyter.widget-view+json": {
       "model_id": "8c4372f1a210488fb84e15f86d6f12b4",
       "version_major": 2,
       "version_minor": 0
      },
      "text/plain": [
       "EchoTableWidget(data=TableWidget())"
      ]
     },
     "metadata": {},
     "output_type": "display_data"
    }
   ],
   "source": [
    "from ipytablewidgets import EchoTableWidget\n",
    "def on_value_change(change):\n",
    "    new_val = change['new']\n",
    "    dfecho = pd.DataFrame(new_val['data'])\n",
    "    assert set(df.columns) == set(dfecho.columns)\n",
    "    assert df.equals(dfecho)\n",
    "    print(\"TEST OK\")\n",
    "\n",
    "ewg = EchoTableWidget(wg)\n",
    "ewg.observe(on_value_change, names='echo')\n",
    "display(ewg)"
   ]
  },
  {
   "cell_type": "code",
   "execution_count": 3,
   "metadata": {},
   "outputs": [
    {
     "data": {
      "text/plain": [
       "{'columns': ['A', 'B', 'C', 'D', 'I', 'S'],\n",
       " 'data': {'A': [-3.593419279661867,\n",
       "   6.424975296649837,\n",
       "   -0.28386300569391587,\n",
       "   -2.7864843001017983,\n",
       "   -2.6556910370747833],\n",
       "  'B': [4.175623039055699,\n",
       "   4.03476240710399,\n",
       "   5.328329639681472,\n",
       "   5.466190478119488,\n",
       "   5.235989224687],\n",
       "  'C': [0.8495124813840693,\n",
       "   1.1548598704583917,\n",
       "   -14.756423260224093,\n",
       "   -2.5862350998474746,\n",
       "   -6.004175872343106],\n",
       "  'D': [4.508398650515689,\n",
       "   0.571010920536196,\n",
       "   9.460942874141601,\n",
       "   4.926634467517803,\n",
       "   6.066653951367297],\n",
       "  'I': [1545932260, 461901618, 774414982, 732395540, 1934879560],\n",
       "  'S': ['C', 'B', 'D', 'A', 'D']}}"
      ]
     },
     "execution_count": 3,
     "metadata": {},
     "output_type": "execute_result"
    }
   ],
   "source": [
    "ewg.echo"
   ]
  }
 ],
 "metadata": {
  "kernelspec": {
   "display_name": "Python 3",
   "language": "python",
   "name": "python3"
  },
  "language_info": {
   "codemirror_mode": {
    "name": "ipython",
    "version": 3
   },
   "file_extension": ".py",
   "mimetype": "text/x-python",
   "name": "python",
   "nbconvert_exporter": "python",
   "pygments_lexer": "ipython3",
   "version": "3.9.7"
  }
 },
 "nbformat": 4,
 "nbformat_minor": 4
}
