{
 "cells": [
  {
   "cell_type": "code",
   "execution_count": 1,
   "metadata": {
    "tags": []
   },
   "outputs": [
    {
     "data": {
      "application/vnd.jupyter.widget-view+json": {
       "model_id": "90ed78b8221e4bfaa230161b291de5b8",
       "version_major": 2,
       "version_minor": 0
      },
      "text/plain": [
       "Label(value='Start')"
      ]
     },
     "execution_count": 1,
     "metadata": {},
     "output_type": "execute_result"
    }
   ],
   "source": [
    "import numpy as np\n",
    "import pandas as pd\n",
    "import time\n",
    "import ipywidgets as widgets\n",
    "from ipytablewidgets import TableWidget, PandasAdapter\n",
    "seed = 42\n",
    "rows = 5\n",
    "choice=('A', 'B', 'C', 'D')\n",
    "np.random.seed(seed)\n",
    "np.random.randint(0, 100, size=rows, dtype='int')\n",
    "df = pd.DataFrame({\n",
    "    'A': np.random.normal(0, 3, rows),\n",
    "    'B': np.random.normal(5, 2, rows),\n",
    "    'C': np.random.normal(-5, 4, rows),\n",
    "    'D': np.random.normal(5, 3, rows),\n",
    "    'I': np.random.randint(0, 2**31, size=rows, dtype=int),\n",
    "    'S': np.random.choice(choice, rows)\n",
    "})\n",
    "adapter = PandasAdapter(df)\n",
    "wg = TableWidget(adapter)\n",
    "widgets.Label(\"TableWidget() createdxxxxxxxxxxxxxxxxxxxxxxxxxxxxxxxxxxxxxxxxxxxxxxxxxxxxxxxxxxxxxxxxxxxxxxxxxxxxxxxxxxxxx\")"
   ]
  },
  {
   "cell_type": "code",
   "execution_count": 2,
   "metadata": {
    "tags": []
   },
   "outputs": [
    {
     "data": {
      "application/vnd.jupyter.widget-view+json": {
       "model_id": "f224027024bd488296beb6234a2cf286",
       "version_major": 2,
       "version_minor": 0
      },
      "text/plain": [
       "EchoTableWidget(data=TableWidget())"
      ]
     },
     "metadata": {},
     "output_type": "display_data"
    }
   ],
   "source": [
    "from ipytablewidgets import EchoTableWidget\n",
    "ewg = EchoTableWidget(wg)\n",
    "display(ewg)\n",
    "time.sleep(1)\n",
    "widgets.Label(\"EchoTableWidget() created\")"
   ]
  },
  {
   "cell_type": "code",
   "execution_count": 3,
   "metadata": {
    "scrolled": true,
    "tags": []
   },
   "outputs": [
    {
     "data": {
      "application/vnd.jupyter.widget-view+json": {
       "model_id": "365462b47912463dac8ddd6ceb9f0cf2",
       "version_major": 2,
       "version_minor": 0
      },
      "text/plain": [
       "Label(value='TEST OK')"
      ]
     },
     "execution_count": 3,
     "metadata": {},
     "output_type": "execute_result"
    }
   ],
   "source": [
    "dfecho = pd.DataFrame(ewg.echo['data'])\n",
    "assert set(df.columns) == set(dfecho.columns)\n",
    "assert df.equals(dfecho)\n",
    "widgets.Label(\"TEST without compression passed\")"
   ]
  },
  {
   "cell_type": "code",
   "execution_count": 8,
   "metadata": {
    "tags": []
   },
   "outputs": [
    {
     "data": {
      "application/vnd.jupyter.widget-view+json": {
       "model_id": "17acf512c83247248b59aceaf8e43240",
       "version_major": 2,
       "version_minor": 0
      },
      "text/plain": [
       "EchoTableWidget(data=TableWidget())"
      ]
     },
     "metadata": {},
     "output_type": "display_data"
    }
   ],
   "source": [
    "wg = TableWidget(adapter, compression='lz4')\n",
    "ewg = EchoTableWidget(wg)\n",
    "display(ewg)\n",
    "display(widgets.Label(\"TableWidget(compression='lz4'), EchoTableWidget() created\"))\n",
    "time.sleep(1)"
   ]
  },
  {
   "cell_type": "code",
   "execution_count": 9,
   "metadata": {
    "tags": []
   },
   "outputs": [
    {
     "data": {
      "application/vnd.jupyter.widget-view+json": {
       "model_id": "ef70c3b79c654fc9b879a545f38ffbcd",
       "version_major": 2,
       "version_minor": 0
      },
      "text/plain": [
       "Label(value='TEST OK')"
      ]
     },
     "execution_count": 9,
     "metadata": {},
     "output_type": "execute_result"
    }
   ],
   "source": [
    "dfecho = pd.DataFrame(ewg.echo['data'])\n",
    "assert set(df.columns) == set(dfecho.columns)\n",
    "assert df.equals(dfecho)\n",
    "widgets.Label(\"TEST with compression=='lz4' passed\")"
   ]
  },
  {
   "cell_type": "code",
   "execution_count": 10,
   "metadata": {
    "tags": []
   },
   "outputs": [
    {
     "data": {
      "application/vnd.jupyter.widget-view+json": {
       "model_id": "2e8b2f969c1b4bd8bdf2cf9a74ffce2f",
       "version_major": 2,
       "version_minor": 0
      },
      "text/plain": [
       "EchoTableWidget(data=TableWidget())"
      ]
     },
     "metadata": {},
     "output_type": "display_data"
    }
   ],
   "source": [
    "wg = TableWidget(adapter, compression='zlib')\n",
    "ewg = EchoTableWidget(wg)\n",
    "display(ewg)\n",
    "display(widgets.Label(\"TableWidget(compression='zlib'), EchoTableWidget() created\"))\n",
    "time.sleep(1)"
   ]
  },
  {
   "cell_type": "code",
   "execution_count": 11,
   "metadata": {
    "tags": []
   },
   "outputs": [
    {
     "data": {
      "application/vnd.jupyter.widget-view+json": {
       "model_id": "e8e1635708f34521ab726380c6e5b1b1",
       "version_major": 2,
       "version_minor": 0
      },
      "text/plain": [
       "Label(value='TEST OK')"
      ]
     },
     "execution_count": 11,
     "metadata": {},
     "output_type": "execute_result"
    }
   ],
   "source": [
    "dfecho = pd.DataFrame(ewg.echo['data'])\n",
    "assert set(df.columns) == set(dfecho.columns)\n",
    "assert df.equals(dfecho)\n",
    "widgets.Label(\"TEST with compression=='zlib' passed\")"
   ]
  }
 ],
 "metadata": {
  "kernelspec": {
   "display_name": "Python 3 (ipykernel)",
   "language": "python",
   "name": "python3"
  },
  "language_info": {
   "codemirror_mode": {
    "name": "ipython",
    "version": 3
   },
   "file_extension": ".py",
   "mimetype": "text/x-python",
   "name": "python",
   "nbconvert_exporter": "python",
   "pygments_lexer": "ipython3",
   "version": "3.10.9"
  },
  "widgets": {
   "application/vnd.jupyter.widget-state+json": {
    "state": {},
    "version_major": 2,
    "version_minor": 0
   }
  }
 },
 "nbformat": 4,
 "nbformat_minor": 4
}
