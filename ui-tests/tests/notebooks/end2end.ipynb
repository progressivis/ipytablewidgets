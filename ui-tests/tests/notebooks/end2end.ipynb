{
 "cells": [
  {
   "cell_type": "code",
   "execution_count": null,
   "metadata": {
    "tags": []
   },
   "outputs": [],
   "source": [
    "import numpy as np\n",
    "import pandas as pd\n",
    "import time\n",
    "import ipywidgets as widgets\n",
    "from ipytablewidgets import TableWidget, PandasAdapter\n",
    "seed = 42\n",
    "rows = 5\n",
    "choice=('A', 'B', 'C', 'D')\n",
    "np.random.seed(seed)\n",
    "np.random.randint(0, 100, size=rows, dtype='int')\n",
    "df = pd.DataFrame({\n",
    "    'A': np.random.normal(0, 3, rows),\n",
    "    'B': np.random.normal(5, 2, rows),\n",
    "    'C': np.random.normal(-5, 4, rows),\n",
    "    'D': np.random.normal(5, 3, rows),\n",
    "    'I': np.random.randint(0, 2**31, size=rows, dtype=int),\n",
    "    'S': np.random.choice(choice, rows)\n",
    "})\n",
    "adapter = PandasAdapter(df)\n",
    "wg = TableWidget(adapter)\n",
    "def print_html(messg):\n",
    "    return widgets.HTML(f\"<div style='width: 800px; height: 100px; border: 1px solid black;'>{messg}</div>\")\n",
    "print_html(\"TableWidget() created\")"
   ]
  },
  {
   "cell_type": "code",
   "execution_count": null,
   "metadata": {
    "tags": []
   },
   "outputs": [],
   "source": [
    "from ipytablewidgets import EchoTableWidget\n",
    "ewg = EchoTableWidget(wg)\n",
    "display(ewg)\n",
    "time.sleep(1)\n",
    "print_html(\"EchoTableWidget() created\")"
   ]
  },
  {
   "cell_type": "code",
   "execution_count": null,
   "metadata": {
    "scrolled": true,
    "tags": []
   },
   "outputs": [],
   "source": [
    "dfecho = pd.DataFrame(ewg.echo['data'])\n",
    "assert set(df.columns) == set(dfecho.columns)\n",
    "assert df.equals(dfecho)\n",
    "print_html(\"TEST without compression passed\")"
   ]
  },
  {
   "cell_type": "code",
   "execution_count": null,
   "metadata": {
    "tags": []
   },
   "outputs": [],
   "source": [
    "wg = TableWidget(adapter, compression='lz4')\n",
    "ewg = EchoTableWidget(wg)\n",
    "display(ewg)\n",
    "display(print_html(\"TableWidget(compression='lz4'), EchoTableWidget() created\"))\n",
    "time.sleep(1)"
   ]
  },
  {
   "cell_type": "code",
   "execution_count": null,
   "metadata": {
    "tags": []
   },
   "outputs": [],
   "source": [
    "dfecho = pd.DataFrame(ewg.echo['data'])\n",
    "assert set(df.columns) == set(dfecho.columns)\n",
    "assert df.equals(dfecho)\n",
    "print_html(\"TEST with compression=='lz4' passed\")"
   ]
  },
  {
   "cell_type": "code",
   "execution_count": null,
   "metadata": {
    "tags": []
   },
   "outputs": [],
   "source": [
    "wg = TableWidget(adapter, compression='zlib')\n",
    "ewg = EchoTableWidget(wg)\n",
    "display(ewg)\n",
    "display(print_html(\"TableWidget(compression='zlib'), EchoTableWidget() created\"))\n",
    "time.sleep(1)"
   ]
  },
  {
   "cell_type": "code",
   "execution_count": null,
   "metadata": {
    "tags": []
   },
   "outputs": [],
   "source": [
    "dfecho = pd.DataFrame(ewg.echo['data'])\n",
    "assert set(df.columns) == set(dfecho.columns)\n",
    "assert df.equals(dfecho)\n",
    "print_html(\"TEST with compression=='zlib' passed\")"
   ]
  }
 ],
 "metadata": {
  "hide_input": false,
  "kernelspec": {
   "display_name": "Python 3 (ipykernel)",
   "language": "python",
   "name": "python3"
  },
  "language_info": {
   "codemirror_mode": {
    "name": "ipython",
    "version": 3
   },
   "file_extension": ".py",
   "mimetype": "text/x-python",
   "name": "python",
   "nbconvert_exporter": "python",
   "pygments_lexer": "ipython3",
   "version": "3.9.16"
  },
  "toc": {
   "base_numbering": 1,
   "nav_menu": {},
   "number_sections": true,
   "sideBar": true,
   "skip_h1_title": false,
   "title_cell": "Table of Contents",
   "title_sidebar": "Contents",
   "toc_cell": false,
   "toc_position": {},
   "toc_section_display": true,
   "toc_window_display": false
  },
  "widgets": {
   "application/vnd.jupyter.widget-state+json": {
    "state": {},
    "version_major": 2,
    "version_minor": 0
   }
  }
 },
 "nbformat": 4,
 "nbformat_minor": 4
}
