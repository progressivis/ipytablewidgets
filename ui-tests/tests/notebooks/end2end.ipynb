{
 "cells": [
  {
   "cell_type": "code",
   "execution_count": null,
   "metadata": {},
   "outputs": [],
   "source": [
    "import numpy as np\n",
    "import pandas as pd\n",
    "import time\n",
    "from ipytablewidgets import TableWidget, PandasAdapter\n",
    "wg = TableWidget()\n",
    "seed = 42\n",
    "rows = 5\n",
    "choice=('A', 'B', 'C', 'D')\n",
    "np.random.seed(seed)\n",
    "np.random.randint(0, 100, size=rows, dtype='int')\n",
    "df = pd.DataFrame({\n",
    "    'A': np.random.normal(0, 3, rows),\n",
    "    'B': np.random.normal(5, 2, rows),\n",
    "    'C': np.random.normal(-5, 4, rows),\n",
    "    'D': np.random.normal(5, 3, rows),\n",
    "    'I': np.random.randint(0, 2**31, size=rows, dtype=int),\n",
    "    'S': np.random.choice(choice, rows)\n",
    "})\n",
    "adapter = PandasAdapter(df, touch_mode=True)\n",
    "wg._table = adapter"
   ]
  },
  {
   "cell_type": "code",
   "execution_count": null,
   "metadata": {},
   "outputs": [],
   "source": [
    "from ipytablewidgets import EchoTableWidget\n",
    "ewg = EchoTableWidget(wg)\n",
    "#display(ewg)\n",
    "time.sleep(3)"
   ]
  },
  {
   "cell_type": "code",
   "execution_count": null,
   "metadata": {
    "scrolled": true
   },
   "outputs": [],
   "source": [
    "dfecho = pd.DataFrame(ewg.echo['data'])\n",
    "assert set(df.columns) == set(dfecho.columns)\n",
    "assert df.equals(dfecho)\n",
    "print(\"TEST OK\")"
   ]
  }
 ],
 "metadata": {
  "kernelspec": {
   "display_name": "Python 3",
   "language": "python",
   "name": "python3"
  },
  "language_info": {
   "codemirror_mode": {
    "name": "ipython",
    "version": 3
   },
   "file_extension": ".py",
   "mimetype": "text/x-python",
   "name": "python",
   "nbconvert_exporter": "python",
   "pygments_lexer": "ipython3",
   "version": "3.7.9"
  }
 },
 "nbformat": 4,
 "nbformat_minor": 4
}
